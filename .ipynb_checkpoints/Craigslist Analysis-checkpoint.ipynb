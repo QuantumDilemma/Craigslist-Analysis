{
 "cells": [
  {
   "cell_type": "markdown",
   "id": "033f711d",
   "metadata": {},
   "source": [
    "## Goals"
   ]
  },
  {
   "cell_type": "markdown",
   "id": "cce7a0d5",
   "metadata": {},
   "source": [
    "Examine how different amounts of predictors affect models and explore different ways to determine the best model to use."
   ]
  },
  {
   "cell_type": "markdown",
   "id": "c4b000b7",
   "metadata": {},
   "source": [
    "## Import modules"
   ]
  },
  {
   "cell_type": "code",
   "execution_count": 11,
   "id": "5d3b858b",
   "metadata": {},
   "outputs": [],
   "source": [
    "import pandas as pd\n",
    "import numpy as np\n",
    "import statsmodels.api as sm\n",
    "from statsmodels.stats.anova import anova_lm"
   ]
  },
  {
   "cell_type": "markdown",
   "id": "33e49640",
   "metadata": {},
   "source": [
    "## Import data"
   ]
  },
  {
   "cell_type": "code",
   "execution_count": 2,
   "id": "d2575ac8",
   "metadata": {},
   "outputs": [],
   "source": [
    "df = pd.read_csv(\"Craigslist Accommodation.csv\")"
   ]
  },
  {
   "cell_type": "code",
   "execution_count": 4,
   "id": "503da085",
   "metadata": {},
   "outputs": [
    {
     "data": {
      "text/html": [
       "<div>\n",
       "<style scoped>\n",
       "    .dataframe tbody tr th:only-of-type {\n",
       "        vertical-align: middle;\n",
       "    }\n",
       "\n",
       "    .dataframe tbody tr th {\n",
       "        vertical-align: top;\n",
       "    }\n",
       "\n",
       "    .dataframe thead th {\n",
       "        text-align: right;\n",
       "    }\n",
       "</style>\n",
       "<table border=\"1\" class=\"dataframe\">\n",
       "  <thead>\n",
       "    <tr style=\"text-align: right;\">\n",
       "      <th></th>\n",
       "      <th>price</th>\n",
       "      <th>type</th>\n",
       "      <th>sqfeet</th>\n",
       "      <th>beds</th>\n",
       "      <th>baths</th>\n",
       "      <th>cats_allowed</th>\n",
       "      <th>dogs_allowed</th>\n",
       "      <th>smoking_allowed</th>\n",
       "      <th>wheelchair_access</th>\n",
       "      <th>comes_furnished</th>\n",
       "      <th>laundry_options</th>\n",
       "      <th>parking_options</th>\n",
       "    </tr>\n",
       "  </thead>\n",
       "  <tbody>\n",
       "    <tr>\n",
       "      <th>0</th>\n",
       "      <td>1130</td>\n",
       "      <td>apartment</td>\n",
       "      <td>684</td>\n",
       "      <td>1</td>\n",
       "      <td>1.0</td>\n",
       "      <td>0</td>\n",
       "      <td>0</td>\n",
       "      <td>0</td>\n",
       "      <td>0</td>\n",
       "      <td>0</td>\n",
       "      <td>w/d in unit</td>\n",
       "      <td>carport</td>\n",
       "    </tr>\n",
       "    <tr>\n",
       "      <th>1</th>\n",
       "      <td>1190</td>\n",
       "      <td>condo</td>\n",
       "      <td>2190</td>\n",
       "      <td>4</td>\n",
       "      <td>2.0</td>\n",
       "      <td>1</td>\n",
       "      <td>1</td>\n",
       "      <td>1</td>\n",
       "      <td>0</td>\n",
       "      <td>0</td>\n",
       "      <td>NaN</td>\n",
       "      <td>NaN</td>\n",
       "    </tr>\n",
       "    <tr>\n",
       "      <th>2</th>\n",
       "      <td>1333</td>\n",
       "      <td>apartment</td>\n",
       "      <td>805</td>\n",
       "      <td>2</td>\n",
       "      <td>1.5</td>\n",
       "      <td>1</td>\n",
       "      <td>1</td>\n",
       "      <td>1</td>\n",
       "      <td>0</td>\n",
       "      <td>0</td>\n",
       "      <td>NaN</td>\n",
       "      <td>NaN</td>\n",
       "    </tr>\n",
       "    <tr>\n",
       "      <th>3</th>\n",
       "      <td>2440</td>\n",
       "      <td>apartment</td>\n",
       "      <td>850</td>\n",
       "      <td>1</td>\n",
       "      <td>1.0</td>\n",
       "      <td>0</td>\n",
       "      <td>1</td>\n",
       "      <td>1</td>\n",
       "      <td>0</td>\n",
       "      <td>0</td>\n",
       "      <td>w/d in unit</td>\n",
       "      <td>NaN</td>\n",
       "    </tr>\n",
       "    <tr>\n",
       "      <th>4</th>\n",
       "      <td>1250</td>\n",
       "      <td>condo</td>\n",
       "      <td>1500</td>\n",
       "      <td>3</td>\n",
       "      <td>2.0</td>\n",
       "      <td>0</td>\n",
       "      <td>0</td>\n",
       "      <td>1</td>\n",
       "      <td>0</td>\n",
       "      <td>1</td>\n",
       "      <td>w/d in unit</td>\n",
       "      <td>off-street parking</td>\n",
       "    </tr>\n",
       "  </tbody>\n",
       "</table>\n",
       "</div>"
      ],
      "text/plain": [
       "   price       type  sqfeet  beds  baths  cats_allowed  dogs_allowed  \\\n",
       "0   1130  apartment     684     1    1.0             0             0   \n",
       "1   1190      condo    2190     4    2.0             1             1   \n",
       "2   1333  apartment     805     2    1.5             1             1   \n",
       "3   2440  apartment     850     1    1.0             0             1   \n",
       "4   1250      condo    1500     3    2.0             0             0   \n",
       "\n",
       "   smoking_allowed  wheelchair_access  comes_furnished laundry_options  \\\n",
       "0                0                  0                0     w/d in unit   \n",
       "1                1                  0                0             NaN   \n",
       "2                1                  0                0             NaN   \n",
       "3                1                  0                0     w/d in unit   \n",
       "4                1                  0                1     w/d in unit   \n",
       "\n",
       "      parking_options  \n",
       "0             carport  \n",
       "1                 NaN  \n",
       "2                 NaN  \n",
       "3                 NaN  \n",
       "4  off-street parking  "
      ]
     },
     "execution_count": 4,
     "metadata": {},
     "output_type": "execute_result"
    }
   ],
   "source": [
    "df.head()"
   ]
  },
  {
   "cell_type": "markdown",
   "id": "a28a843a",
   "metadata": {},
   "source": [
    "Data is already cleaned"
   ]
  },
  {
   "cell_type": "markdown",
   "id": "a2b681e1",
   "metadata": {},
   "source": [
    "## Fit models"
   ]
  },
  {
   "cell_type": "code",
   "execution_count": 5,
   "id": "ff6bd05e",
   "metadata": {},
   "outputs": [],
   "source": [
    "model1 = sm.OLS.from_formula(\"price ~ type + sqfeet + beds + baths\", data = df).fit()"
   ]
  },
  {
   "cell_type": "code",
   "execution_count": 6,
   "id": "b151f5f2",
   "metadata": {},
   "outputs": [],
   "source": [
    "model2 = sm.OLS.from_formula(\"price ~ type + sqfeet + beds + baths + comes_furnished + laundry_options + parking_options + smoking_allowed\", data = df).fit()"
   ]
  },
  {
   "cell_type": "code",
   "execution_count": 7,
   "id": "f5a05ebd",
   "metadata": {},
   "outputs": [],
   "source": [
    "model3 = sm.OLS.from_formula(\"price ~ type + sqfeet + beds + baths + comes_furnished + laundry_options + parking_options + smoking_allowed + cats_allowed + dogs_allowed\", data = df).fit()"
   ]
  },
  {
   "cell_type": "markdown",
   "id": "b9921009",
   "metadata": {},
   "source": [
    "## Compare r squared"
   ]
  },
  {
   "cell_type": "code",
   "execution_count": 8,
   "id": "fcfd0225",
   "metadata": {},
   "outputs": [
    {
     "name": "stdout",
     "output_type": "stream",
     "text": [
      "0.12781764439123178\n",
      "0.28191525276034357\n",
      "0.2838226722379379\n"
     ]
    }
   ],
   "source": [
    "print(model1.rsquared)\n",
    "print(model2.rsquared)\n",
    "print(model3.rsquared)"
   ]
  },
  {
   "cell_type": "markdown",
   "id": "054cf1b1",
   "metadata": {},
   "source": [
    "Approximately 28% of variation can be accounted for using model 3, the largest predictor set."
   ]
  },
  {
   "cell_type": "markdown",
   "id": "5d06f3e4",
   "metadata": {},
   "source": [
    "## Compare adjusted r squared"
   ]
  },
  {
   "cell_type": "code",
   "execution_count": 10,
   "id": "6e828c28",
   "metadata": {},
   "outputs": [
    {
     "name": "stdout",
     "output_type": "stream",
     "text": [
      "0.12571895013269863\n",
      "0.2762905680561165\n",
      "0.27774148003616994\n"
     ]
    }
   ],
   "source": [
    "print(model1.rsquared_adj)\n",
    "print(model2.rsquared_adj)\n",
    "print(model3.rsquared_adj)"
   ]
  },
  {
   "cell_type": "markdown",
   "id": "fcef7fa6",
   "metadata": {},
   "source": [
    "Model 3 still has the highest adusted r squared, suggesting that the extra predictors: cats_allowed and dogs_allowed have a significant effect on the price. Otherwise the adjusted penalty would have eroded their edge."
   ]
  },
  {
   "cell_type": "markdown",
   "id": "d570225c",
   "metadata": {},
   "source": [
    "## Run anova test comparing models"
   ]
  },
  {
   "cell_type": "code",
   "execution_count": 12,
   "id": "7908009b",
   "metadata": {},
   "outputs": [
    {
     "name": "stdout",
     "output_type": "stream",
     "text": [
      "   df_resid           ssr  df_diff       ss_diff         F    Pr(>F)\n",
      "0    3064.0  5.270049e+08      0.0           NaN       NaN       NaN\n",
      "1    3062.0  5.256050e+08      2.0  1.399862e+06  4.077564  0.017041\n"
     ]
    }
   ],
   "source": [
    "anova_results = anova_lm(model2, model3)\n",
    "print(anova_results)"
   ]
  },
  {
   "cell_type": "markdown",
   "id": "4d869741",
   "metadata": {},
   "source": [
    "With a significance threshold of 0.05, the results of the anova test are significant (Pr>F 0.017). Suggesting that at least one of the predictors: cats_allowed or dogs_allowed is significant and useful to keep in the model."
   ]
  },
  {
   "cell_type": "markdown",
   "id": "7447ff08",
   "metadata": {},
   "source": [
    "## Out of sample prediction"
   ]
  },
  {
   "cell_type": "markdown",
   "id": "ba461937",
   "metadata": {},
   "source": [
    "#### Find log-likelihood of the models"
   ]
  },
  {
   "cell_type": "code",
   "execution_count": 14,
   "id": "9f294669",
   "metadata": {},
   "outputs": [
    {
     "name": "stdout",
     "output_type": "stream",
     "text": [
      "-37528.12294065279\n",
      "-22989.87439522474\n",
      "-22985.76634388421\n"
     ]
    }
   ],
   "source": [
    "print(model1.llf)\n",
    "print(model2.llf)\n",
    "print(model3.llf)"
   ]
  },
  {
   "cell_type": "markdown",
   "id": "436b04cd",
   "metadata": {},
   "source": [
    "Model 3 has the highest log-likelihood. This makes sense as it has the most predictors and log-likelihood increases as more predictors are added."
   ]
  },
  {
   "cell_type": "markdown",
   "id": "6dbc1557",
   "metadata": {},
   "source": [
    "#### Find AIC (Akaike’s information criterion) of the models"
   ]
  },
  {
   "cell_type": "code",
   "execution_count": 15,
   "id": "a43452b5",
   "metadata": {},
   "outputs": [
    {
     "name": "stdout",
     "output_type": "stream",
     "text": [
      "75082.24588130559\n",
      "46029.74879044948\n",
      "46025.53268776842\n"
     ]
    }
   ],
   "source": [
    "print(model1.aic)\n",
    "print(model2.aic)\n",
    "print(model3.aic)"
   ]
  },
  {
   "cell_type": "markdown",
   "id": "e88ea30f",
   "metadata": {},
   "source": [
    "Model 3 has the lowest AIC, so in this case we would choose the same model as the previous tests have suggested."
   ]
  },
  {
   "cell_type": "markdown",
   "id": "aacd9ca5",
   "metadata": {},
   "source": [
    "#### Find BIC (Baysean information criterion) of the models"
   ]
  },
  {
   "cell_type": "code",
   "execution_count": 17,
   "id": "dbe17820",
   "metadata": {},
   "outputs": [
    {
     "name": "stdout",
     "output_type": "stream",
     "text": [
      "75166.969392794\n",
      "46180.63885777244\n",
      "46188.49396047722\n"
     ]
    }
   ],
   "source": [
    "print(model1.bic)\n",
    "print(model2.bic)\n",
    "print(model3.bic)"
   ]
  },
  {
   "cell_type": "markdown",
   "id": "7656a14e",
   "metadata": {},
   "source": [
    "Model 2 has the lowest BIC, so in this case we would choose model 2 over model 3 and model 1. This is because BIC values simplicity in the model"
   ]
  },
  {
   "cell_type": "markdown",
   "id": "1e83fa71",
   "metadata": {},
   "source": [
    "## Split housing data"
   ]
  },
  {
   "cell_type": "code",
   "execution_count": 21,
   "id": "4fc11b26",
   "metadata": {},
   "outputs": [],
   "source": [
    "#get the df indices\n",
    "indices = range(len(df))\n",
    "\n",
    "#set size variable to 80% of the length of the list of indices\n",
    "s = int(0.8*len(indices))\n",
    "\n",
    "#select a random set of indices to train on\n",
    "train_ind = np.random.choice(indices, size = s, replace = False)\n",
    "\n",
    "#select the leftover indices to test on\n",
    "test_ind = list(set(indices) - set(train_ind))\n",
    "\n",
    "#define the dataframes with their respective indices\n",
    "df_train = df.iloc[train_ind]\n",
    "df_test = df.iloc[test_ind]"
   ]
  },
  {
   "cell_type": "code",
   "execution_count": null,
   "id": "60e68f75",
   "metadata": {},
   "outputs": [],
   "source": []
  }
 ],
 "metadata": {
  "kernelspec": {
   "display_name": "Python 3",
   "language": "python",
   "name": "python3"
  },
  "language_info": {
   "codemirror_mode": {
    "name": "ipython",
    "version": 3
   },
   "file_extension": ".py",
   "mimetype": "text/x-python",
   "name": "python",
   "nbconvert_exporter": "python",
   "pygments_lexer": "ipython3",
   "version": "3.8.8"
  }
 },
 "nbformat": 4,
 "nbformat_minor": 5
}
